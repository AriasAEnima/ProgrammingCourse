{
 "cells": [
  {
   "cell_type": "markdown",
   "id": "a5002279",
   "metadata": {},
   "source": [
    "### Exercise CHECK IF LIST IS ORDERED"
   ]
  },
  {
   "cell_type": "code",
   "execution_count": null,
   "id": "1930e1b8",
   "metadata": {},
   "outputs": [],
   "source": [
    "def is_ordered(list):\n",
    "    ans = True\n",
    "    for i in range(0,len(list) - 1):\n",
    "        print(\"i\", i)\n",
    "        n1 = list[i]\n",
    "        n2 = list[i+1]\n",
    "        if n2 < n1:\n",
    "          ans = False\n",
    "    return ans\n",
    "\n",
    "print(is_ordered([2,3,4,5,6]))"
   ]
  },
  {
   "cell_type": "markdown",
   "id": "10a87634",
   "metadata": {},
   "source": [
    "## Check if two list are equal"
   ]
  },
  {
   "cell_type": "code",
   "execution_count": null,
   "id": "d9aa41d2",
   "metadata": {},
   "outputs": [],
   "source": [
    "def are_equal(list1, list2):\n",
    "    ans = len(list1) == len(list2)\n",
    "    i = 0\n",
    "    while ans and i < len(list1):\n",
    "        ans = list1[i] == list2[i]\n",
    "        i= i + 1\n",
    "    return ans                   \n",
    "\n",
    "print( are_equal([2,3], [2,3]))\n",
    "print( are_equal([3,3], [2,3]))\n",
    "print( are_equal([3,3], [3,3,1]))"
   ]
  },
  {
   "cell_type": "markdown",
   "id": "e2eaef84",
   "metadata": {},
   "source": [
    "### Check if element exist in List"
   ]
  },
  {
   "cell_type": "code",
   "execution_count": null,
   "id": "cb9dfe18",
   "metadata": {},
   "outputs": [],
   "source": [
    "def is_in(e , list):\n",
    "    ans = False\n",
    "    for i in range(0, len(list)):\n",
    "        n1 = list[i]\n",
    "        if n1 == e:\n",
    "            ans = True \n",
    "    return ans\n",
    "\n",
    "is_in(2, [1,3])\n",
    "is_in(2, [1,2,3])"
   ]
  },
  {
   "cell_type": "markdown",
   "id": "4e5e7664",
   "metadata": {},
   "source": [
    "## Check if two list are equal and could have different length\n"
   ]
  },
  {
   "cell_type": "code",
   "execution_count": null,
   "id": "50ddacd7",
   "metadata": {},
   "outputs": [],
   "source": [
    "def are_equal(list1, list2):\n",
    "    ans = True\n",
    "    if len(list1) == len(list2):\n",
    "        for i in range(0, len(list1)):\n",
    "            n1 = list1[i]\n",
    "            n2 = list2[i]\n",
    "            if n1 != n2:\n",
    "                ans = False\n",
    "    else:\n",
    "        ans = False\n",
    "    return ans \n",
    "                  \n",
    "\n",
    "print( are_equal([2,3], [2,3]))\n",
    "print( are_equal([3,3], [2,3]))\n",
    "print( are_equal([3,3], [3,3,1]))"
   ]
  },
  {
   "cell_type": "code",
   "execution_count": null,
   "id": "3fd9b3e6",
   "metadata": {},
   "outputs": [],
   "source": [
    "def are_equal(list1, list2):\n",
    "    ans = len(list1) == len(list2)\n",
    "    i = 0\n",
    "    while ans and i < len(list1):\n",
    "        ans = list1[i] == list2[i]\n",
    "        i= i + 1\n",
    "    return ans                   \n",
    "\n",
    "print( are_equal([2,3], [2,3]))\n",
    "print( are_equal([3,3], [2,3]))\n",
    "print( are_equal([3,3], [3,3,1]))"
   ]
  },
  {
   "cell_type": "code",
   "execution_count": null,
   "id": "c39e3ce2",
   "metadata": {},
   "outputs": [],
   "source": [
    "def print_reverse(list):\n",
    "    for i in range(len(list)-1,-1,-1):\n",
    "        print(list[i],end=\" \")\n",
    "\n",
    "print_reverse([1,2,3,4,5])"
   ]
  },
  {
   "cell_type": "code",
   "execution_count": null,
   "id": "b31c72ae",
   "metadata": {},
   "outputs": [],
   "source": [
    "vowels = [\"a\",\"e\",\"i\",\"o\",\"u\"]\n",
    "def isVowel(letter):\n",
    "    isVowel = False\n",
    "    idx = 0\n",
    "    while not isVowel and idx < len(vowels):\n",
    "        isVowel = letter ==vowels[idx]\n",
    "        idx +=1 \n",
    "    return isVowel\n",
    "def first_vowel_position(word):\n",
    "    hasVowels = False\n",
    "    idx = 0\n",
    "    position=-1\n",
    "    while not hasVowels and idx < len(word):\n",
    "        hasVowels = isVowel(word[idx])\n",
    "        if hasVowels:\n",
    "            position = idx\n",
    "        idx +=1\n",
    "    return position"
   ]
  },
  {
   "cell_type": "code",
   "execution_count": null,
   "id": "7626c979",
   "metadata": {},
   "outputs": [],
   "source": [
    "first_vowel_position(\"anaaaaaaaaaaaaaaaaaaaaaaaaaaaa\")"
   ]
  },
  {
   "cell_type": "code",
   "execution_count": null,
   "id": "2e253c1a",
   "metadata": {},
   "outputs": [],
   "source": [
    "def last_vowel_position(word):\n",
    "    hasVowels = False\n",
    "    position=-1\n",
    "    for idx in range(0,len(word)):\n",
    "        hasVowels = isVowel(word[idx])\n",
    "        if hasVowels:\n",
    "            position=idx\n",
    "    return position\n",
    "last_vowel_position(\"Trace\") # Expe"
   ]
  },
  {
   "cell_type": "code",
   "execution_count": null,
   "id": "ef357204",
   "metadata": {},
   "outputs": [],
   "source": [
    "def last_vowel_position_optimal(word):\n",
    "    hasVowels = False\n",
    "    position=-1\n",
    "    idx = len(word) -1 \n",
    "    # for idx in range(0,len(word)):\n",
    "    while not hasVowels and idx>=0:\n",
    "        hasVowels = isVowel(word[idx])\n",
    "        if hasVowels:\n",
    "            position=idx\n",
    "        print(\"Cicle\")\n",
    "    return position\n",
    "last_vowel_position_optimal(\"TTTTTtttttttttttttttttttrace\") # Expe"
   ]
  },
  {
   "cell_type": "code",
   "execution_count": null,
   "id": "13a93a03",
   "metadata": {},
   "outputs": [],
   "source": [
    "words = [\"zero\",\"one\",\"two\",\"three\",\"four\",\"five\",\"six\",\"seven\",\"eight\",\"nine\"]\n",
    "def change_to_words(listOfNumbers):\n",
    "    new_list=listOfNumbers.copy()\n",
    "    for i in range(0,len(listOfNumbers)):\n",
    "        new_list[i]=words[listOfNumbers[i]]\n",
    "    return new_list\n",
    "change_to_words([2,5,1,9])"
   ]
  },
  {
   "cell_type": "code",
   "execution_count": null,
   "id": "1c64afee",
   "metadata": {},
   "outputs": [],
   "source": [
    "words = [\"zero\",\"one\",\"two\",\"three\",\"four\",\"five\",\"six\",\"seven\",\"eight\",\"nine\"]\n",
    "def change_to_words_v2(listOfNumbers):\n",
    "    new_list= [] \n",
    "    for number in listOfNumbers:\n",
    "        new_list.append(words[number])\n",
    "    return new_list\n",
    "change_to_words_v2([2,5,1,9])"
   ]
  },
  {
   "cell_type": "code",
   "execution_count": null,
   "id": "9cd67129",
   "metadata": {},
   "outputs": [],
   "source": [
    "def create_diagonal_matrix(size):\n",
    "   matrix = []   \n",
    "   for i in range(size): \n",
    "      row = []         \n",
    "      for j in range(size):\n",
    "         if i==j:\n",
    "            row.append(1)\n",
    "         else:\n",
    "            row.append(0)\n",
    "      # print(row)\n",
    "      matrix.append(row)\n",
    "   return matrix\n",
    "create_diagonal_matrix(4) \n"
   ]
  },
  {
   "cell_type": "code",
   "execution_count": null,
   "id": "8195e0f4",
   "metadata": {},
   "outputs": [],
   "source": [
    "def find_maximum_matrix(matrix):\n",
    "    max_value=0\n",
    "    max_row_idx=0\n",
    "    max_column_idx=0\n",
    "    for row in range(0,len(matrix)):\n",
    "        for column in range(0,len(matrix[row])):\n",
    "            if matrix[row][column]>max_value:\n",
    "                max_column_idx=column\n",
    "                max_row_idx=row\n",
    "                max_value=matrix[row][column]\n",
    "    print(\"Value:\",max_value,\"Position: \",(max_row_idx,max_column_idx))\n",
    "find_maximum_matrix([[5,2,3],[19,23],[0,4,1,4]]) # Position 1, 1 Value 23\n"
   ]
  },
  {
   "cell_type": "code",
   "execution_count": null,
   "id": "a5fbf509",
   "metadata": {},
   "outputs": [],
   "source": [
    "def calculate_sum_of_row(row):\n",
    "    suma=0\n",
    "    for elemnt in row:\n",
    "        suma += elemnt\n",
    "    return suma\n",
    "\n",
    "def compute_sum_of_rows(matrix):\n",
    "    suma_matrix=[]\n",
    "    for row in matrix:\n",
    "        suma_matrix.append(calculate_sum_of_row(row))\n",
    "    return suma_matrix\n",
    "\n",
    "compute_sum_of_rows([[1,0,1],[4,1,0],[0,5,1]])"
   ]
  },
  {
   "cell_type": "code",
   "execution_count": null,
   "id": "73afd51d",
   "metadata": {},
   "outputs": [],
   "source": [
    "def sum_of_all_elemnts(matrix):\n",
    "    return calculate_sum_of_row(compute_sum_of_rows(matrix))\n",
    "sum_of_all_elemnts([[1,0,1],[4,1,0],[0,5,1]])\n"
   ]
  }
 ],
 "metadata": {
  "kernelspec": {
   "display_name": "Python 3 (ipykernel)",
   "language": "python",
   "name": "python3"
  },
  "language_info": {
   "codemirror_mode": {
    "name": "ipython",
    "version": 3
   },
   "file_extension": ".py",
   "mimetype": "text/x-python",
   "name": "python",
   "nbconvert_exporter": "python",
   "pygments_lexer": "ipython3",
   "version": "3.8.9"
  }
 },
 "nbformat": 4,
 "nbformat_minor": 5
}
